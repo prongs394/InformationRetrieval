{
 "cells": [
  {
   "cell_type": "code",
   "execution_count": 18,
   "id": "857fbb5b",
   "metadata": {},
   "outputs": [],
   "source": [
    "import pandas as pd\n",
    "import numpy as np\n",
    "import plotly.express as px\n",
    "import matplotlib.pyplot as plt\n",
    "from sklearn.model_selection import train_test_split\n",
    "from sklearn.preprocessing import StandardScaler\n",
    "from sklearn.metrics import confusion_matrix, accuracy_score\n",
    "import seaborn as sns  \n",
    "import numpy as np\n",
    "\n",
    "\n",
    "\n",
    "from sklearn.tree import DecisionTreeClassifier\n",
    "from sklearn.ensemble import RandomForestClassifier\n",
    "from sklearn.linear_model import LogisticRegression\n",
    "from sklearn.neighbors import KNeighborsClassifier,NearestCentroid\n",
    "from sklearn.ensemble import AdaBoostClassifier ,GradientBoostingClassifier\n",
    "from sklearn.ensemble import BaggingClassifier\n",
    "from sklearn import svm\n",
    "\n",
    "from sklearn import preprocessing\n",
    "from sklearn.preprocessing import OneHotEncoder\n",
    "from sklearn.feature_extraction import DictVectorizer\n"
   ]
  },
  {
   "cell_type": "code",
   "execution_count": 2,
   "id": "bb966164",
   "metadata": {},
   "outputs": [
    {
     "name": "stdout",
     "output_type": "stream",
     "text": [
      "<class 'pandas.core.frame.DataFrame'>\n",
      "RangeIndex: 2602536 entries, 0 to 2602535\n",
      "Data columns (total 4 columns):\n",
      " #   Column      Dtype \n",
      "---  ------      ----- \n",
      " 0   Unnamed: 0  int64 \n",
      " 1   token       object\n",
      " 2   pos_tag     object\n",
      " 3   ezafe_tag   int64 \n",
      "dtypes: int64(2), object(2)\n",
      "memory usage: 79.4+ MB\n"
     ]
    }
   ],
   "source": [
    "#df = pd.read_csv('bijankhan_corpus.tsv', sep='\\t', header=0)\n",
    "df = pd.read_csv('updated_bijankhan_corpus.csv')\n",
    "\n",
    "df.info()\n"
   ]
  },
  {
   "cell_type": "code",
   "execution_count": 3,
   "id": "3cea1d0f",
   "metadata": {},
   "outputs": [
    {
     "data": {
      "text/html": [
       "<div>\n",
       "<style scoped>\n",
       "    .dataframe tbody tr th:only-of-type {\n",
       "        vertical-align: middle;\n",
       "    }\n",
       "\n",
       "    .dataframe tbody tr th {\n",
       "        vertical-align: top;\n",
       "    }\n",
       "\n",
       "    .dataframe thead th {\n",
       "        text-align: right;\n",
       "    }\n",
       "</style>\n",
       "<table border=\"1\" class=\"dataframe\">\n",
       "  <thead>\n",
       "    <tr style=\"text-align: right;\">\n",
       "      <th></th>\n",
       "      <th>Unnamed: 0</th>\n",
       "      <th>token</th>\n",
       "      <th>pos_tag</th>\n",
       "      <th>ezafe_tag</th>\n",
       "    </tr>\n",
       "  </thead>\n",
       "  <tbody>\n",
       "    <tr>\n",
       "      <th>0</th>\n",
       "      <td>0</td>\n",
       "      <td>!هنری!</td>\n",
       "      <td>SUBJ</td>\n",
       "      <td>0</td>\n",
       "    </tr>\n",
       "    <tr>\n",
       "      <th>1</th>\n",
       "      <td>1</td>\n",
       "      <td>#</td>\n",
       "      <td>DELM</td>\n",
       "      <td>0</td>\n",
       "    </tr>\n",
       "    <tr>\n",
       "      <th>2</th>\n",
       "      <td>2</td>\n",
       "      <td>مسعود</td>\n",
       "      <td>N_SING_PR</td>\n",
       "      <td>1</td>\n",
       "    </tr>\n",
       "    <tr>\n",
       "      <th>3</th>\n",
       "      <td>3</td>\n",
       "      <td>شجاعی</td>\n",
       "      <td>N_SING_PR</td>\n",
       "      <td>1</td>\n",
       "    </tr>\n",
       "    <tr>\n",
       "      <th>4</th>\n",
       "      <td>4</td>\n",
       "      <td>طباطبایی</td>\n",
       "      <td>N_SING_PR</td>\n",
       "      <td>0</td>\n",
       "    </tr>\n",
       "  </tbody>\n",
       "</table>\n",
       "</div>"
      ],
      "text/plain": [
       "   Unnamed: 0     token    pos_tag  ezafe_tag\n",
       "0           0    !هنری!       SUBJ          0\n",
       "1           1         #       DELM          0\n",
       "2           2     مسعود  N_SING_PR          1\n",
       "3           3     شجاعی  N_SING_PR          1\n",
       "4           4  طباطبایی  N_SING_PR          0"
      ]
     },
     "execution_count": 3,
     "metadata": {},
     "output_type": "execute_result"
    }
   ],
   "source": [
    "df.head()"
   ]
  },
  {
   "cell_type": "code",
   "execution_count": 9,
   "id": "2dd9e67f",
   "metadata": {},
   "outputs": [
    {
     "name": "stdout",
     "output_type": "stream",
     "text": [
      "ezafe_tag\n",
      "0    2016358\n",
      "1     586178\n",
      "Name: count, dtype: int64\n"
     ]
    },
    {
     "data": {
      "image/png": "[encoded data removed]",
      "text/plain": [
       "<Figure size 600x600 with 1 Axes>"
      ]
     },
     "metadata": {},
     "output_type": "display_data"
    }
   ],
   "source": [
    "ezafe_counts = df['ezafe_tag'].value_counts()\n",
    "\n",
    "# Print the counts\n",
    "print(ezafe_counts)\n",
    "\n",
    "# Create a pie chart\n",
    "plt.figure(figsize=(6, 6))\n",
    "plt.pie(ezafe_counts, labels=ezafe_counts.index, autopct='%1.1f%%', startangle=140)\n",
    "plt.axis('equal')  # Equal aspect ratio ensures that pie is drawn as a circle.\n",
    "plt.title('Distribution of Ezafe Tags')\n",
    "plt.show()"
   ]
  },
  {
   "cell_type": "code",
   "execution_count": 4,
   "id": "395c3d3f",
   "metadata": {},
   "outputs": [],
   "source": [
    "p=df['pos_tag'].unique()\n",
    "#p contains all unique pos_tags (about 480)"
   ]
  },
  {
   "cell_type": "code",
   "execution_count": 5,
   "id": "893a008e",
   "metadata": {},
   "outputs": [
    {
     "name": "stdout",
     "output_type": "stream",
     "text": [
      "483\n"
     ]
    }
   ],
   "source": [
    "dict={}\n",
    "for i in range(len(p)):\n",
    "    dict[p[i]]=i\n",
    "print(len(dict))"
   ]
  },
  {
   "cell_type": "code",
   "execution_count": 6,
   "id": "56f5dcbd",
   "metadata": {},
   "outputs": [],
   "source": [
    "#pos_tags are text in pos_tag_num to each unique pos_tag we assign a number from 0 to len(dict)\n",
    "pos_tag_num=[]\n",
    "for i in range(len(df)):\n",
    "        if(df['pos_tag'][i] in dict):\n",
    "            pos_tag_num.append(dict[df['pos_tag'][i]])\n",
    "    "
   ]
  },
  {
   "cell_type": "code",
   "execution_count": 7,
   "id": "3467d9f0",
   "metadata": {},
   "outputs": [
    {
     "data": {
      "text/html": [
       "<div>\n",
       "<style scoped>\n",
       "    .dataframe tbody tr th:only-of-type {\n",
       "        vertical-align: middle;\n",
       "    }\n",
       "\n",
       "    .dataframe tbody tr th {\n",
       "        vertical-align: top;\n",
       "    }\n",
       "\n",
       "    .dataframe thead th {\n",
       "        text-align: right;\n",
       "    }\n",
       "</style>\n",
       "<table border=\"1\" class=\"dataframe\">\n",
       "  <thead>\n",
       "    <tr style=\"text-align: right;\">\n",
       "      <th></th>\n",
       "      <th>Unnamed: 0</th>\n",
       "      <th>token</th>\n",
       "      <th>pos_tag</th>\n",
       "      <th>ezafe_tag</th>\n",
       "      <th>pos_tag_left</th>\n",
       "      <th>pos_tag_right</th>\n",
       "    </tr>\n",
       "  </thead>\n",
       "  <tbody>\n",
       "    <tr>\n",
       "      <th>0</th>\n",
       "      <td>0</td>\n",
       "      <td>!هنری!</td>\n",
       "      <td>0</td>\n",
       "      <td>0</td>\n",
       "      <td>0.0</td>\n",
       "      <td>1.0</td>\n",
       "    </tr>\n",
       "    <tr>\n",
       "      <th>1</th>\n",
       "      <td>1</td>\n",
       "      <td>#</td>\n",
       "      <td>1</td>\n",
       "      <td>0</td>\n",
       "      <td>0.0</td>\n",
       "      <td>2.0</td>\n",
       "    </tr>\n",
       "    <tr>\n",
       "      <th>2</th>\n",
       "      <td>2</td>\n",
       "      <td>مسعود</td>\n",
       "      <td>2</td>\n",
       "      <td>1</td>\n",
       "      <td>1.0</td>\n",
       "      <td>2.0</td>\n",
       "    </tr>\n",
       "    <tr>\n",
       "      <th>3</th>\n",
       "      <td>3</td>\n",
       "      <td>شجاعی</td>\n",
       "      <td>2</td>\n",
       "      <td>1</td>\n",
       "      <td>2.0</td>\n",
       "      <td>2.0</td>\n",
       "    </tr>\n",
       "    <tr>\n",
       "      <th>4</th>\n",
       "      <td>4</td>\n",
       "      <td>طباطبایی</td>\n",
       "      <td>2</td>\n",
       "      <td>0</td>\n",
       "      <td>2.0</td>\n",
       "      <td>1.0</td>\n",
       "    </tr>\n",
       "  </tbody>\n",
       "</table>\n",
       "</div>"
      ],
      "text/plain": [
       "   Unnamed: 0     token  pos_tag  ezafe_tag  pos_tag_left  pos_tag_right\n",
       "0           0    !هنری!        0          0           0.0            1.0\n",
       "1           1         #        1          0           0.0            2.0\n",
       "2           2     مسعود        2          1           1.0            2.0\n",
       "3           3     شجاعی        2          1           2.0            2.0\n",
       "4           4  طباطبایی        2          0           2.0            1.0"
      ]
     },
     "execution_count": 7,
     "metadata": {},
     "output_type": "execute_result"
    }
   ],
   "source": [
    "new_df = df\n",
    "new_df['pos_tag'] = pos_tag_num\n",
    "#in new_df, pos_tag is not an object its int\n",
    "\n",
    "# Add attributes for pos_tag_left and pos_tag_right\n",
    "new_df['pos_tag_left'] = new_df['pos_tag'].shift(1).fillna(0)\n",
    "new_df['pos_tag_right'] = new_df['pos_tag'].shift(-1).fillna(0)\n",
    "\n",
    "# For the first row, set pos_tag_left to 0 (if not already set by fillna)\n",
    "new_df.at[0, 'pos_tag_left'] = 0\n",
    "\n",
    "# For the last row, set pos_tag_right to 0\n",
    "last_index = new_df.index[-1]\n",
    "new_df.at[last_index, 'pos_tag_right'] = 0\n",
    "\n",
    "# Display the DataFrame to verify the changes\n",
    "new_df.head()\n",
    "\n"
   ]
  },
  {
   "cell_type": "code",
   "execution_count": 10,
   "id": "dedf3476",
   "metadata": {},
   "outputs": [
    {
     "name": "stdout",
     "output_type": "stream",
     "text": [
      "<class 'pandas.core.frame.DataFrame'>\n",
      "RangeIndex: 2602536 entries, 0 to 2602535\n",
      "Data columns (total 6 columns):\n",
      " #   Column         Dtype  \n",
      "---  ------         -----  \n",
      " 0   Unnamed: 0     int64  \n",
      " 1   token          object \n",
      " 2   pos_tag        int64  \n",
      " 3   ezafe_tag      int64  \n",
      " 4   pos_tag_left   float64\n",
      " 5   pos_tag_right  float64\n",
      "dtypes: float64(2), int64(3), object(1)\n",
      "memory usage: 119.1+ MB\n"
     ]
    }
   ],
   "source": [
    "new_df.info()"
   ]
  },
  {
   "cell_type": "code",
   "execution_count": 11,
   "id": "d7e550fa",
   "metadata": {},
   "outputs": [],
   "source": [
    "X = new_df['pos_tag'].values\n",
    "y = new_df['ezafe_tag'].values\n",
    "X=X.reshape(-1,1)\n",
    "X_train, X_test, y_train, y_test = train_test_split(X, y, test_size=0.0384, shuffle=False)"
   ]
  },
  {
   "cell_type": "code",
   "execution_count": 21,
   "id": "095f26bc",
   "metadata": {},
   "outputs": [
    {
     "name": "stderr",
     "output_type": "stream",
     "text": [
      "c:\\Users\\Asus\\AppData\\Local\\Programs\\Python\\Python311\\Lib\\site-packages\\sklearn\\metrics\\_classification.py:1471: UndefinedMetricWarning: Precision is ill-defined and being set to 0.0 in labels with no predicted samples. Use `zero_division` parameter to control this behavior.\n",
      "  0, 1 or np.nan (according to ``zero_division``). Plus, if\n"
     ]
    },
    {
     "name": "stdout",
     "output_type": "stream",
     "text": [
      "LR - Precision: 0.5681651964408851, Accuracy: 0.7537673357481639, F1 Score: 0.6479367985246501\n",
      "NC - Precision: 0.7138039477001508, Accuracy: 0.43116732374071925, F1 Score: 0.4351826850863031\n",
      "RF - Precision: 0.8371876096925148, Accuracy: 0.8050691428685786, F1 Score: 0.8141158419052714\n",
      "ADA - Precision: 0.8084316470788019, Accuracy: 0.7912305629490284, F1 Score: 0.7975451765356164\n",
      "XGB - Precision: 0.8331533898813533, Accuracy: 0.8035181812723888, F1 Score: 0.8122124802642956\n"
     ]
    }
   ],
   "source": [
    "from sklearn.linear_model import LogisticRegression\n",
    "from sklearn.neighbors import NearestCentroid\n",
    "from sklearn.ensemble import RandomForestClassifier, AdaBoostClassifier, GradientBoostingClassifier\n",
    "from sklearn.metrics import precision_score, accuracy_score, f1_score\n",
    "import numpy as np\n",
    "import xgboost as xgb\n",
    "\n",
    "models = [\n",
    "    (\"LR\", LogisticRegression(max_iter=1000)),\n",
    "    (\"NC\", NearestCentroid()),\n",
    "    (\"RF\", RandomForestClassifier()),\n",
    "    (\"ADA\", AdaBoostClassifier()),\n",
    "    (\"XGB\", xgb.XGBClassifier(eval_metric='mlogloss'))\n",
    "]\n",
    "\n",
    "results = []\n",
    "\n",
    "for name, model in models:\n",
    "    model.fit(X_train, y_train)\n",
    "    y_pred = model.predict(X_test)\n",
    "    \n",
    "    # Calculate metrics\n",
    "    precision = precision_score(y_test, y_pred, average='weighted')\n",
    "    accuracy = accuracy_score(y_test, y_pred)\n",
    "    f1 = f1_score(y_test, y_pred, average='weighted')\n",
    "    \n",
    "    results.append((name, precision, accuracy, f1))\n",
    "    \n",
    "    print(f\"{name} - Precision: {precision}, Accuracy: {accuracy}, F1 Score: {f1}\")\n"
   ]
  },
  {
   "attachments": {},
   "cell_type": "markdown",
   "id": "1d2d5929",
   "metadata": {},
   "source": [
    "random forest and XGBoost are doing better than other models.\n"
   ]
  }
 ],
 "metadata": {
  "kernelspec": {
   "display_name": "Python 3",
   "language": "python",
   "name": "python3"
  },
  "language_info": {
   "codemirror_mode": {
    "name": "ipython",
    "version": 3
   },
   "file_extension": ".py",
   "mimetype": "text/x-python",
   "name": "python",
   "nbconvert_exporter": "python",
   "pygments_lexer": "ipython3",
   "version": "3.11.3"
  }
 },
 "nbformat": 4,
 "nbformat_minor": 5
}
